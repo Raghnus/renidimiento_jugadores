{
  "nbformat": 4,
  "nbformat_minor": 0,
  "metadata": {
    "colab": {
      "name": "Rendimiento_Jugadores_Dota.ipynb",
      "provenance": [],
      "collapsed_sections": [],
      "authorship_tag": "ABX9TyN1LgeBFh08K3BDd6NzhJDl",
      "include_colab_link": true
    },
    "kernelspec": {
      "name": "python3",
      "display_name": "Python 3"
    },
    "language_info": {
      "name": "python"
    }
  },
  "cells": [
    {
      "cell_type": "markdown",
      "metadata": {
        "id": "view-in-github",
        "colab_type": "text"
      },
      "source": [
        "<a href=\"https://colab.research.google.com/github/Raghnus/renidimiento_jugadores/blob/main/Rendimiento_Jugadores_Dota.ipynb\" target=\"_parent\"><img src=\"https://colab.research.google.com/assets/colab-badge.svg\" alt=\"Open In Colab\"/></a>"
      ]
    },
    {
      "cell_type": "code",
      "source": [
        "from google.colab import drive\n",
        "drive.mount('/content/drive')"
      ],
      "metadata": {
        "colab": {
          "base_uri": "https://localhost:8080/"
        },
        "id": "RA_4eQ6zKoWM",
        "outputId": "756c8fb3-31ac-4674-d2b7-fe3e9dd2bb0a"
      },
      "execution_count": null,
      "outputs": [
        {
          "output_type": "stream",
          "name": "stdout",
          "text": [
            "Mounted at /content/drive\n"
          ]
        }
      ]
    },
    {
      "cell_type": "code",
      "execution_count": null,
      "metadata": {
        "id": "wdEAg8ZzKIwz"
      },
      "outputs": [],
      "source": [
        "import pandas as pd\n",
        "import matplotlib.pyplot as plt\n",
        "from sklearn.preprocessing import StandardScaler\n",
        "from sklearn.pipeline import make_pipeline\n",
        "from sklearn.model_selection import train_test_split\n",
        "from sklearn.ensemble import RandomForestRegressor\n",
        "from xgboost import XGBRegressor"
      ]
    },
    {
      "cell_type": "code",
      "source": [
        "df_hero = pd.read_csv('/content/drive/MyDrive/PTCienciaDatos/Poryecto2/train/hero_data.csv')\n",
        "df_hero.head()"
      ],
      "metadata": {
        "colab": {
          "base_uri": "https://localhost:8080/",
          "height": 300
        },
        "id": "qBxXVP2uKWub",
        "outputId": "afc87ae6-89cf-40d3-d604-41300bae47d9"
      },
      "execution_count": null,
      "outputs": [
        {
          "output_type": "execute_result",
          "data": {
            "text/plain": [
              "   hero_id primary_attr attack_type                                   roles  \\\n",
              "0        1          agi       Melee                      Carry:Escape:Nuker   \n",
              "1        2          str       Melee      Initiator:Durable:Disabler:Jungler   \n",
              "2        3          int      Ranged          Support:Disabler:Nuker:Durable   \n",
              "3        4          agi       Melee  Carry:Disabler:Jungler:Nuker:Initiator   \n",
              "4        5          int      Ranged          Support:Disabler:Nuker:Jungler   \n",
              "\n",
              "   base_health  base_health_regen  base_mana  base_mana_regen  base_armor  \\\n",
              "0          200               1.50         75              0.9        -1.0   \n",
              "1          200               4.25         75              0.9        -1.0   \n",
              "2          200               1.50         75              0.9         1.0   \n",
              "3          200               1.50         75              0.9         0.0   \n",
              "4          200               1.50         75              0.9        -1.0   \n",
              "\n",
              "   base_magic_resistance  ...  base_agility  base_intelligence  strength_gain  \\\n",
              "0                     25  ...            22                 12            1.3   \n",
              "1                     25  ...            20                 18            2.8   \n",
              "2                     25  ...            23                 23            2.4   \n",
              "3                     25  ...            24                 18            2.7   \n",
              "4                     25  ...            16                 16            2.0   \n",
              "\n",
              "   agility_gain  intelligence_gain  attack_range  projectile_speed  \\\n",
              "0           2.8                1.8           150                 0   \n",
              "1           2.2                1.6           150               900   \n",
              "2           2.4                2.4           400               900   \n",
              "3           3.0                1.7           150               900   \n",
              "4           1.6                2.9           600               900   \n",
              "\n",
              "   attack_rate  move_speed  turn_rate  \n",
              "0         1.45         310        0.5  \n",
              "1         1.70         290        0.6  \n",
              "2         1.70         310        0.6  \n",
              "3         1.70         285        0.5  \n",
              "4         1.70         275        0.5  \n",
              "\n",
              "[5 rows x 23 columns]"
            ],
            "text/html": [
              "\n",
              "  <div id=\"df-61a24293-d6f1-49a3-aadf-8f1aabae7a9f\">\n",
              "    <div class=\"colab-df-container\">\n",
              "      <div>\n",
              "<style scoped>\n",
              "    .dataframe tbody tr th:only-of-type {\n",
              "        vertical-align: middle;\n",
              "    }\n",
              "\n",
              "    .dataframe tbody tr th {\n",
              "        vertical-align: top;\n",
              "    }\n",
              "\n",
              "    .dataframe thead th {\n",
              "        text-align: right;\n",
              "    }\n",
              "</style>\n",
              "<table border=\"1\" class=\"dataframe\">\n",
              "  <thead>\n",
              "    <tr style=\"text-align: right;\">\n",
              "      <th></th>\n",
              "      <th>hero_id</th>\n",
              "      <th>primary_attr</th>\n",
              "      <th>attack_type</th>\n",
              "      <th>roles</th>\n",
              "      <th>base_health</th>\n",
              "      <th>base_health_regen</th>\n",
              "      <th>base_mana</th>\n",
              "      <th>base_mana_regen</th>\n",
              "      <th>base_armor</th>\n",
              "      <th>base_magic_resistance</th>\n",
              "      <th>...</th>\n",
              "      <th>base_agility</th>\n",
              "      <th>base_intelligence</th>\n",
              "      <th>strength_gain</th>\n",
              "      <th>agility_gain</th>\n",
              "      <th>intelligence_gain</th>\n",
              "      <th>attack_range</th>\n",
              "      <th>projectile_speed</th>\n",
              "      <th>attack_rate</th>\n",
              "      <th>move_speed</th>\n",
              "      <th>turn_rate</th>\n",
              "    </tr>\n",
              "  </thead>\n",
              "  <tbody>\n",
              "    <tr>\n",
              "      <th>0</th>\n",
              "      <td>1</td>\n",
              "      <td>agi</td>\n",
              "      <td>Melee</td>\n",
              "      <td>Carry:Escape:Nuker</td>\n",
              "      <td>200</td>\n",
              "      <td>1.50</td>\n",
              "      <td>75</td>\n",
              "      <td>0.9</td>\n",
              "      <td>-1.0</td>\n",
              "      <td>25</td>\n",
              "      <td>...</td>\n",
              "      <td>22</td>\n",
              "      <td>12</td>\n",
              "      <td>1.3</td>\n",
              "      <td>2.8</td>\n",
              "      <td>1.8</td>\n",
              "      <td>150</td>\n",
              "      <td>0</td>\n",
              "      <td>1.45</td>\n",
              "      <td>310</td>\n",
              "      <td>0.5</td>\n",
              "    </tr>\n",
              "    <tr>\n",
              "      <th>1</th>\n",
              "      <td>2</td>\n",
              "      <td>str</td>\n",
              "      <td>Melee</td>\n",
              "      <td>Initiator:Durable:Disabler:Jungler</td>\n",
              "      <td>200</td>\n",
              "      <td>4.25</td>\n",
              "      <td>75</td>\n",
              "      <td>0.9</td>\n",
              "      <td>-1.0</td>\n",
              "      <td>25</td>\n",
              "      <td>...</td>\n",
              "      <td>20</td>\n",
              "      <td>18</td>\n",
              "      <td>2.8</td>\n",
              "      <td>2.2</td>\n",
              "      <td>1.6</td>\n",
              "      <td>150</td>\n",
              "      <td>900</td>\n",
              "      <td>1.70</td>\n",
              "      <td>290</td>\n",
              "      <td>0.6</td>\n",
              "    </tr>\n",
              "    <tr>\n",
              "      <th>2</th>\n",
              "      <td>3</td>\n",
              "      <td>int</td>\n",
              "      <td>Ranged</td>\n",
              "      <td>Support:Disabler:Nuker:Durable</td>\n",
              "      <td>200</td>\n",
              "      <td>1.50</td>\n",
              "      <td>75</td>\n",
              "      <td>0.9</td>\n",
              "      <td>1.0</td>\n",
              "      <td>25</td>\n",
              "      <td>...</td>\n",
              "      <td>23</td>\n",
              "      <td>23</td>\n",
              "      <td>2.4</td>\n",
              "      <td>2.4</td>\n",
              "      <td>2.4</td>\n",
              "      <td>400</td>\n",
              "      <td>900</td>\n",
              "      <td>1.70</td>\n",
              "      <td>310</td>\n",
              "      <td>0.6</td>\n",
              "    </tr>\n",
              "    <tr>\n",
              "      <th>3</th>\n",
              "      <td>4</td>\n",
              "      <td>agi</td>\n",
              "      <td>Melee</td>\n",
              "      <td>Carry:Disabler:Jungler:Nuker:Initiator</td>\n",
              "      <td>200</td>\n",
              "      <td>1.50</td>\n",
              "      <td>75</td>\n",
              "      <td>0.9</td>\n",
              "      <td>0.0</td>\n",
              "      <td>25</td>\n",
              "      <td>...</td>\n",
              "      <td>24</td>\n",
              "      <td>18</td>\n",
              "      <td>2.7</td>\n",
              "      <td>3.0</td>\n",
              "      <td>1.7</td>\n",
              "      <td>150</td>\n",
              "      <td>900</td>\n",
              "      <td>1.70</td>\n",
              "      <td>285</td>\n",
              "      <td>0.5</td>\n",
              "    </tr>\n",
              "    <tr>\n",
              "      <th>4</th>\n",
              "      <td>5</td>\n",
              "      <td>int</td>\n",
              "      <td>Ranged</td>\n",
              "      <td>Support:Disabler:Nuker:Jungler</td>\n",
              "      <td>200</td>\n",
              "      <td>1.50</td>\n",
              "      <td>75</td>\n",
              "      <td>0.9</td>\n",
              "      <td>-1.0</td>\n",
              "      <td>25</td>\n",
              "      <td>...</td>\n",
              "      <td>16</td>\n",
              "      <td>16</td>\n",
              "      <td>2.0</td>\n",
              "      <td>1.6</td>\n",
              "      <td>2.9</td>\n",
              "      <td>600</td>\n",
              "      <td>900</td>\n",
              "      <td>1.70</td>\n",
              "      <td>275</td>\n",
              "      <td>0.5</td>\n",
              "    </tr>\n",
              "  </tbody>\n",
              "</table>\n",
              "<p>5 rows × 23 columns</p>\n",
              "</div>\n",
              "      <button class=\"colab-df-convert\" onclick=\"convertToInteractive('df-61a24293-d6f1-49a3-aadf-8f1aabae7a9f')\"\n",
              "              title=\"Convert this dataframe to an interactive table.\"\n",
              "              style=\"display:none;\">\n",
              "        \n",
              "  <svg xmlns=\"http://www.w3.org/2000/svg\" height=\"24px\"viewBox=\"0 0 24 24\"\n",
              "       width=\"24px\">\n",
              "    <path d=\"M0 0h24v24H0V0z\" fill=\"none\"/>\n",
              "    <path d=\"M18.56 5.44l.94 2.06.94-2.06 2.06-.94-2.06-.94-.94-2.06-.94 2.06-2.06.94zm-11 1L8.5 8.5l.94-2.06 2.06-.94-2.06-.94L8.5 2.5l-.94 2.06-2.06.94zm10 10l.94 2.06.94-2.06 2.06-.94-2.06-.94-.94-2.06-.94 2.06-2.06.94z\"/><path d=\"M17.41 7.96l-1.37-1.37c-.4-.4-.92-.59-1.43-.59-.52 0-1.04.2-1.43.59L10.3 9.45l-7.72 7.72c-.78.78-.78 2.05 0 2.83L4 21.41c.39.39.9.59 1.41.59.51 0 1.02-.2 1.41-.59l7.78-7.78 2.81-2.81c.8-.78.8-2.07 0-2.86zM5.41 20L4 18.59l7.72-7.72 1.47 1.35L5.41 20z\"/>\n",
              "  </svg>\n",
              "      </button>\n",
              "      \n",
              "  <style>\n",
              "    .colab-df-container {\n",
              "      display:flex;\n",
              "      flex-wrap:wrap;\n",
              "      gap: 12px;\n",
              "    }\n",
              "\n",
              "    .colab-df-convert {\n",
              "      background-color: #E8F0FE;\n",
              "      border: none;\n",
              "      border-radius: 50%;\n",
              "      cursor: pointer;\n",
              "      display: none;\n",
              "      fill: #1967D2;\n",
              "      height: 32px;\n",
              "      padding: 0 0 0 0;\n",
              "      width: 32px;\n",
              "    }\n",
              "\n",
              "    .colab-df-convert:hover {\n",
              "      background-color: #E2EBFA;\n",
              "      box-shadow: 0px 1px 2px rgba(60, 64, 67, 0.3), 0px 1px 3px 1px rgba(60, 64, 67, 0.15);\n",
              "      fill: #174EA6;\n",
              "    }\n",
              "\n",
              "    [theme=dark] .colab-df-convert {\n",
              "      background-color: #3B4455;\n",
              "      fill: #D2E3FC;\n",
              "    }\n",
              "\n",
              "    [theme=dark] .colab-df-convert:hover {\n",
              "      background-color: #434B5C;\n",
              "      box-shadow: 0px 1px 3px 1px rgba(0, 0, 0, 0.15);\n",
              "      filter: drop-shadow(0px 1px 2px rgba(0, 0, 0, 0.3));\n",
              "      fill: #FFFFFF;\n",
              "    }\n",
              "  </style>\n",
              "\n",
              "      <script>\n",
              "        const buttonEl =\n",
              "          document.querySelector('#df-61a24293-d6f1-49a3-aadf-8f1aabae7a9f button.colab-df-convert');\n",
              "        buttonEl.style.display =\n",
              "          google.colab.kernel.accessAllowed ? 'block' : 'none';\n",
              "\n",
              "        async function convertToInteractive(key) {\n",
              "          const element = document.querySelector('#df-61a24293-d6f1-49a3-aadf-8f1aabae7a9f');\n",
              "          const dataTable =\n",
              "            await google.colab.kernel.invokeFunction('convertToInteractive',\n",
              "                                                     [key], {});\n",
              "          if (!dataTable) return;\n",
              "\n",
              "          const docLinkHtml = 'Like what you see? Visit the ' +\n",
              "            '<a target=\"_blank\" href=https://colab.research.google.com/notebooks/data_table.ipynb>data table notebook</a>'\n",
              "            + ' to learn more about interactive tables.';\n",
              "          element.innerHTML = '';\n",
              "          dataTable['output_type'] = 'display_data';\n",
              "          await google.colab.output.renderOutput(dataTable, element);\n",
              "          const docLink = document.createElement('div');\n",
              "          docLink.innerHTML = docLinkHtml;\n",
              "          element.appendChild(docLink);\n",
              "        }\n",
              "      </script>\n",
              "    </div>\n",
              "  </div>\n",
              "  "
            ]
          },
          "metadata": {},
          "execution_count": 4
        }
      ]
    },
    {
      "cell_type": "code",
      "source": [
        "df_hero.info()"
      ],
      "metadata": {
        "colab": {
          "base_uri": "https://localhost:8080/"
        },
        "id": "-gBk68aoH_7Z",
        "outputId": "623fd39c-8cf0-4b25-fd9d-f52e87630f73"
      },
      "execution_count": null,
      "outputs": [
        {
          "output_type": "stream",
          "name": "stdout",
          "text": [
            "<class 'pandas.core.frame.DataFrame'>\n",
            "RangeIndex: 115 entries, 0 to 114\n",
            "Data columns (total 23 columns):\n",
            " #   Column                 Non-Null Count  Dtype  \n",
            "---  ------                 --------------  -----  \n",
            " 0   hero_id                115 non-null    int64  \n",
            " 1   primary_attr           115 non-null    object \n",
            " 2   attack_type            115 non-null    object \n",
            " 3   roles                  115 non-null    object \n",
            " 4   base_health            115 non-null    int64  \n",
            " 5   base_health_regen      115 non-null    float64\n",
            " 6   base_mana              115 non-null    int64  \n",
            " 7   base_mana_regen        115 non-null    float64\n",
            " 8   base_armor             115 non-null    float64\n",
            " 9   base_magic_resistance  115 non-null    int64  \n",
            " 10  base_attack_min        115 non-null    int64  \n",
            " 11  base_attack_max        115 non-null    int64  \n",
            " 12  base_strength          115 non-null    int64  \n",
            " 13  base_agility           115 non-null    int64  \n",
            " 14  base_intelligence      115 non-null    int64  \n",
            " 15  strength_gain          115 non-null    float64\n",
            " 16  agility_gain           115 non-null    float64\n",
            " 17  intelligence_gain      115 non-null    float64\n",
            " 18  attack_range           115 non-null    int64  \n",
            " 19  projectile_speed       115 non-null    int64  \n",
            " 20  attack_rate            115 non-null    float64\n",
            " 21  move_speed             115 non-null    int64  \n",
            " 22  turn_rate              115 non-null    float64\n",
            "dtypes: float64(8), int64(12), object(3)\n",
            "memory usage: 20.8+ KB\n"
          ]
        }
      ]
    },
    {
      "cell_type": "code",
      "source": [
        "df_train9 = pd.read_csv('/content/drive/MyDrive/PTCienciaDatos/Poryecto2/train/train9.csv')\n",
        "df_train9.head()"
      ],
      "metadata": {
        "colab": {
          "base_uri": "https://localhost:8080/",
          "height": 206
        },
        "id": "i_0Ru0i-FQMB",
        "outputId": "99da04a6-7c15-4b0a-bceb-a98c3bf4aa03"
      },
      "execution_count": null,
      "outputs": [
        {
          "output_type": "execute_result",
          "data": {
            "text/plain": [
              "   user_id  hero_id     id  num_games  num_wins    kda_ratio\n",
              "0        1       74   1_74        304       185  3743.699732\n",
              "1        1       65   1_65        255       151  4009.021513\n",
              "2        1       39   1_39        203       135  5094.621514\n",
              "3        1      106  1_106        158       106  4619.212963\n",
              "4        1        2    1_2        157        94  2871.627907"
            ],
            "text/html": [
              "\n",
              "  <div id=\"df-4941bae9-c267-4b7b-9b0a-3c7c5d4af17b\">\n",
              "    <div class=\"colab-df-container\">\n",
              "      <div>\n",
              "<style scoped>\n",
              "    .dataframe tbody tr th:only-of-type {\n",
              "        vertical-align: middle;\n",
              "    }\n",
              "\n",
              "    .dataframe tbody tr th {\n",
              "        vertical-align: top;\n",
              "    }\n",
              "\n",
              "    .dataframe thead th {\n",
              "        text-align: right;\n",
              "    }\n",
              "</style>\n",
              "<table border=\"1\" class=\"dataframe\">\n",
              "  <thead>\n",
              "    <tr style=\"text-align: right;\">\n",
              "      <th></th>\n",
              "      <th>user_id</th>\n",
              "      <th>hero_id</th>\n",
              "      <th>id</th>\n",
              "      <th>num_games</th>\n",
              "      <th>num_wins</th>\n",
              "      <th>kda_ratio</th>\n",
              "    </tr>\n",
              "  </thead>\n",
              "  <tbody>\n",
              "    <tr>\n",
              "      <th>0</th>\n",
              "      <td>1</td>\n",
              "      <td>74</td>\n",
              "      <td>1_74</td>\n",
              "      <td>304</td>\n",
              "      <td>185</td>\n",
              "      <td>3743.699732</td>\n",
              "    </tr>\n",
              "    <tr>\n",
              "      <th>1</th>\n",
              "      <td>1</td>\n",
              "      <td>65</td>\n",
              "      <td>1_65</td>\n",
              "      <td>255</td>\n",
              "      <td>151</td>\n",
              "      <td>4009.021513</td>\n",
              "    </tr>\n",
              "    <tr>\n",
              "      <th>2</th>\n",
              "      <td>1</td>\n",
              "      <td>39</td>\n",
              "      <td>1_39</td>\n",
              "      <td>203</td>\n",
              "      <td>135</td>\n",
              "      <td>5094.621514</td>\n",
              "    </tr>\n",
              "    <tr>\n",
              "      <th>3</th>\n",
              "      <td>1</td>\n",
              "      <td>106</td>\n",
              "      <td>1_106</td>\n",
              "      <td>158</td>\n",
              "      <td>106</td>\n",
              "      <td>4619.212963</td>\n",
              "    </tr>\n",
              "    <tr>\n",
              "      <th>4</th>\n",
              "      <td>1</td>\n",
              "      <td>2</td>\n",
              "      <td>1_2</td>\n",
              "      <td>157</td>\n",
              "      <td>94</td>\n",
              "      <td>2871.627907</td>\n",
              "    </tr>\n",
              "  </tbody>\n",
              "</table>\n",
              "</div>\n",
              "      <button class=\"colab-df-convert\" onclick=\"convertToInteractive('df-4941bae9-c267-4b7b-9b0a-3c7c5d4af17b')\"\n",
              "              title=\"Convert this dataframe to an interactive table.\"\n",
              "              style=\"display:none;\">\n",
              "        \n",
              "  <svg xmlns=\"http://www.w3.org/2000/svg\" height=\"24px\"viewBox=\"0 0 24 24\"\n",
              "       width=\"24px\">\n",
              "    <path d=\"M0 0h24v24H0V0z\" fill=\"none\"/>\n",
              "    <path d=\"M18.56 5.44l.94 2.06.94-2.06 2.06-.94-2.06-.94-.94-2.06-.94 2.06-2.06.94zm-11 1L8.5 8.5l.94-2.06 2.06-.94-2.06-.94L8.5 2.5l-.94 2.06-2.06.94zm10 10l.94 2.06.94-2.06 2.06-.94-2.06-.94-.94-2.06-.94 2.06-2.06.94z\"/><path d=\"M17.41 7.96l-1.37-1.37c-.4-.4-.92-.59-1.43-.59-.52 0-1.04.2-1.43.59L10.3 9.45l-7.72 7.72c-.78.78-.78 2.05 0 2.83L4 21.41c.39.39.9.59 1.41.59.51 0 1.02-.2 1.41-.59l7.78-7.78 2.81-2.81c.8-.78.8-2.07 0-2.86zM5.41 20L4 18.59l7.72-7.72 1.47 1.35L5.41 20z\"/>\n",
              "  </svg>\n",
              "      </button>\n",
              "      \n",
              "  <style>\n",
              "    .colab-df-container {\n",
              "      display:flex;\n",
              "      flex-wrap:wrap;\n",
              "      gap: 12px;\n",
              "    }\n",
              "\n",
              "    .colab-df-convert {\n",
              "      background-color: #E8F0FE;\n",
              "      border: none;\n",
              "      border-radius: 50%;\n",
              "      cursor: pointer;\n",
              "      display: none;\n",
              "      fill: #1967D2;\n",
              "      height: 32px;\n",
              "      padding: 0 0 0 0;\n",
              "      width: 32px;\n",
              "    }\n",
              "\n",
              "    .colab-df-convert:hover {\n",
              "      background-color: #E2EBFA;\n",
              "      box-shadow: 0px 1px 2px rgba(60, 64, 67, 0.3), 0px 1px 3px 1px rgba(60, 64, 67, 0.15);\n",
              "      fill: #174EA6;\n",
              "    }\n",
              "\n",
              "    [theme=dark] .colab-df-convert {\n",
              "      background-color: #3B4455;\n",
              "      fill: #D2E3FC;\n",
              "    }\n",
              "\n",
              "    [theme=dark] .colab-df-convert:hover {\n",
              "      background-color: #434B5C;\n",
              "      box-shadow: 0px 1px 3px 1px rgba(0, 0, 0, 0.15);\n",
              "      filter: drop-shadow(0px 1px 2px rgba(0, 0, 0, 0.3));\n",
              "      fill: #FFFFFF;\n",
              "    }\n",
              "  </style>\n",
              "\n",
              "      <script>\n",
              "        const buttonEl =\n",
              "          document.querySelector('#df-4941bae9-c267-4b7b-9b0a-3c7c5d4af17b button.colab-df-convert');\n",
              "        buttonEl.style.display =\n",
              "          google.colab.kernel.accessAllowed ? 'block' : 'none';\n",
              "\n",
              "        async function convertToInteractive(key) {\n",
              "          const element = document.querySelector('#df-4941bae9-c267-4b7b-9b0a-3c7c5d4af17b');\n",
              "          const dataTable =\n",
              "            await google.colab.kernel.invokeFunction('convertToInteractive',\n",
              "                                                     [key], {});\n",
              "          if (!dataTable) return;\n",
              "\n",
              "          const docLinkHtml = 'Like what you see? Visit the ' +\n",
              "            '<a target=\"_blank\" href=https://colab.research.google.com/notebooks/data_table.ipynb>data table notebook</a>'\n",
              "            + ' to learn more about interactive tables.';\n",
              "          element.innerHTML = '';\n",
              "          dataTable['output_type'] = 'display_data';\n",
              "          await google.colab.output.renderOutput(dataTable, element);\n",
              "          const docLink = document.createElement('div');\n",
              "          docLink.innerHTML = docLinkHtml;\n",
              "          element.appendChild(docLink);\n",
              "        }\n",
              "      </script>\n",
              "    </div>\n",
              "  </div>\n",
              "  "
            ]
          },
          "metadata": {},
          "execution_count": 6
        }
      ]
    },
    {
      "cell_type": "code",
      "source": [
        "df_train9.info()"
      ],
      "metadata": {
        "colab": {
          "base_uri": "https://localhost:8080/"
        },
        "id": "aK5Zcu_GISKJ",
        "outputId": "0d08c1d6-510a-403e-a034-2d5ed65968dd"
      },
      "execution_count": null,
      "outputs": [
        {
          "output_type": "stream",
          "name": "stdout",
          "text": [
            "<class 'pandas.core.frame.DataFrame'>\n",
            "RangeIndex: 18846 entries, 0 to 18845\n",
            "Data columns (total 6 columns):\n",
            " #   Column     Non-Null Count  Dtype  \n",
            "---  ------     --------------  -----  \n",
            " 0   user_id    18846 non-null  int64  \n",
            " 1   hero_id    18846 non-null  int64  \n",
            " 2   id         18846 non-null  object \n",
            " 3   num_games  18846 non-null  int64  \n",
            " 4   num_wins   18846 non-null  int64  \n",
            " 5   kda_ratio  18846 non-null  float64\n",
            "dtypes: float64(1), int64(4), object(1)\n",
            "memory usage: 883.5+ KB\n"
          ]
        }
      ]
    },
    {
      "cell_type": "code",
      "source": [
        "df_train1 = pd.read_csv('/content/drive/MyDrive/PTCienciaDatos/Poryecto2/train/train1.csv')\n",
        "df_train1.head()"
      ],
      "metadata": {
        "colab": {
          "base_uri": "https://localhost:8080/",
          "height": 206
        },
        "id": "di68n7naIWOA",
        "outputId": "90865671-0468-4da3-b903-c867fc426251"
      },
      "execution_count": null,
      "outputs": [
        {
          "output_type": "execute_result",
          "data": {
            "text/plain": [
              "   user_id  hero_id     id  num_games  num_wins    kda_ratio\n",
              "0        1       41   1_41        201       125  3731.707317\n",
              "1        2       17   2_17        427       234  2922.058381\n",
              "2        5      106  5_106        240       130  5116.682739\n",
              "3        6       65   6_65        206       122  4131.553861\n",
              "4        7       69   7_69        697       382  2474.469306"
            ],
            "text/html": [
              "\n",
              "  <div id=\"df-f779f6f8-e567-4832-8ae5-4869775ced69\">\n",
              "    <div class=\"colab-df-container\">\n",
              "      <div>\n",
              "<style scoped>\n",
              "    .dataframe tbody tr th:only-of-type {\n",
              "        vertical-align: middle;\n",
              "    }\n",
              "\n",
              "    .dataframe tbody tr th {\n",
              "        vertical-align: top;\n",
              "    }\n",
              "\n",
              "    .dataframe thead th {\n",
              "        text-align: right;\n",
              "    }\n",
              "</style>\n",
              "<table border=\"1\" class=\"dataframe\">\n",
              "  <thead>\n",
              "    <tr style=\"text-align: right;\">\n",
              "      <th></th>\n",
              "      <th>user_id</th>\n",
              "      <th>hero_id</th>\n",
              "      <th>id</th>\n",
              "      <th>num_games</th>\n",
              "      <th>num_wins</th>\n",
              "      <th>kda_ratio</th>\n",
              "    </tr>\n",
              "  </thead>\n",
              "  <tbody>\n",
              "    <tr>\n",
              "      <th>0</th>\n",
              "      <td>1</td>\n",
              "      <td>41</td>\n",
              "      <td>1_41</td>\n",
              "      <td>201</td>\n",
              "      <td>125</td>\n",
              "      <td>3731.707317</td>\n",
              "    </tr>\n",
              "    <tr>\n",
              "      <th>1</th>\n",
              "      <td>2</td>\n",
              "      <td>17</td>\n",
              "      <td>2_17</td>\n",
              "      <td>427</td>\n",
              "      <td>234</td>\n",
              "      <td>2922.058381</td>\n",
              "    </tr>\n",
              "    <tr>\n",
              "      <th>2</th>\n",
              "      <td>5</td>\n",
              "      <td>106</td>\n",
              "      <td>5_106</td>\n",
              "      <td>240</td>\n",
              "      <td>130</td>\n",
              "      <td>5116.682739</td>\n",
              "    </tr>\n",
              "    <tr>\n",
              "      <th>3</th>\n",
              "      <td>6</td>\n",
              "      <td>65</td>\n",
              "      <td>6_65</td>\n",
              "      <td>206</td>\n",
              "      <td>122</td>\n",
              "      <td>4131.553861</td>\n",
              "    </tr>\n",
              "    <tr>\n",
              "      <th>4</th>\n",
              "      <td>7</td>\n",
              "      <td>69</td>\n",
              "      <td>7_69</td>\n",
              "      <td>697</td>\n",
              "      <td>382</td>\n",
              "      <td>2474.469306</td>\n",
              "    </tr>\n",
              "  </tbody>\n",
              "</table>\n",
              "</div>\n",
              "      <button class=\"colab-df-convert\" onclick=\"convertToInteractive('df-f779f6f8-e567-4832-8ae5-4869775ced69')\"\n",
              "              title=\"Convert this dataframe to an interactive table.\"\n",
              "              style=\"display:none;\">\n",
              "        \n",
              "  <svg xmlns=\"http://www.w3.org/2000/svg\" height=\"24px\"viewBox=\"0 0 24 24\"\n",
              "       width=\"24px\">\n",
              "    <path d=\"M0 0h24v24H0V0z\" fill=\"none\"/>\n",
              "    <path d=\"M18.56 5.44l.94 2.06.94-2.06 2.06-.94-2.06-.94-.94-2.06-.94 2.06-2.06.94zm-11 1L8.5 8.5l.94-2.06 2.06-.94-2.06-.94L8.5 2.5l-.94 2.06-2.06.94zm10 10l.94 2.06.94-2.06 2.06-.94-2.06-.94-.94-2.06-.94 2.06-2.06.94z\"/><path d=\"M17.41 7.96l-1.37-1.37c-.4-.4-.92-.59-1.43-.59-.52 0-1.04.2-1.43.59L10.3 9.45l-7.72 7.72c-.78.78-.78 2.05 0 2.83L4 21.41c.39.39.9.59 1.41.59.51 0 1.02-.2 1.41-.59l7.78-7.78 2.81-2.81c.8-.78.8-2.07 0-2.86zM5.41 20L4 18.59l7.72-7.72 1.47 1.35L5.41 20z\"/>\n",
              "  </svg>\n",
              "      </button>\n",
              "      \n",
              "  <style>\n",
              "    .colab-df-container {\n",
              "      display:flex;\n",
              "      flex-wrap:wrap;\n",
              "      gap: 12px;\n",
              "    }\n",
              "\n",
              "    .colab-df-convert {\n",
              "      background-color: #E8F0FE;\n",
              "      border: none;\n",
              "      border-radius: 50%;\n",
              "      cursor: pointer;\n",
              "      display: none;\n",
              "      fill: #1967D2;\n",
              "      height: 32px;\n",
              "      padding: 0 0 0 0;\n",
              "      width: 32px;\n",
              "    }\n",
              "\n",
              "    .colab-df-convert:hover {\n",
              "      background-color: #E2EBFA;\n",
              "      box-shadow: 0px 1px 2px rgba(60, 64, 67, 0.3), 0px 1px 3px 1px rgba(60, 64, 67, 0.15);\n",
              "      fill: #174EA6;\n",
              "    }\n",
              "\n",
              "    [theme=dark] .colab-df-convert {\n",
              "      background-color: #3B4455;\n",
              "      fill: #D2E3FC;\n",
              "    }\n",
              "\n",
              "    [theme=dark] .colab-df-convert:hover {\n",
              "      background-color: #434B5C;\n",
              "      box-shadow: 0px 1px 3px 1px rgba(0, 0, 0, 0.15);\n",
              "      filter: drop-shadow(0px 1px 2px rgba(0, 0, 0, 0.3));\n",
              "      fill: #FFFFFF;\n",
              "    }\n",
              "  </style>\n",
              "\n",
              "      <script>\n",
              "        const buttonEl =\n",
              "          document.querySelector('#df-f779f6f8-e567-4832-8ae5-4869775ced69 button.colab-df-convert');\n",
              "        buttonEl.style.display =\n",
              "          google.colab.kernel.accessAllowed ? 'block' : 'none';\n",
              "\n",
              "        async function convertToInteractive(key) {\n",
              "          const element = document.querySelector('#df-f779f6f8-e567-4832-8ae5-4869775ced69');\n",
              "          const dataTable =\n",
              "            await google.colab.kernel.invokeFunction('convertToInteractive',\n",
              "                                                     [key], {});\n",
              "          if (!dataTable) return;\n",
              "\n",
              "          const docLinkHtml = 'Like what you see? Visit the ' +\n",
              "            '<a target=\"_blank\" href=https://colab.research.google.com/notebooks/data_table.ipynb>data table notebook</a>'\n",
              "            + ' to learn more about interactive tables.';\n",
              "          element.innerHTML = '';\n",
              "          dataTable['output_type'] = 'display_data';\n",
              "          await google.colab.output.renderOutput(dataTable, element);\n",
              "          const docLink = document.createElement('div');\n",
              "          docLink.innerHTML = docLinkHtml;\n",
              "          element.appendChild(docLink);\n",
              "        }\n",
              "      </script>\n",
              "    </div>\n",
              "  </div>\n",
              "  "
            ]
          },
          "metadata": {},
          "execution_count": 8
        }
      ]
    },
    {
      "cell_type": "code",
      "source": [
        "df_train1.info()"
      ],
      "metadata": {
        "id": "OGz1UB9AUJXT",
        "outputId": "19f3781d-be08-4f47-be21-ce82bf7e1c85",
        "colab": {
          "base_uri": "https://localhost:8080/"
        }
      },
      "execution_count": null,
      "outputs": [
        {
          "output_type": "stream",
          "name": "stdout",
          "text": [
            "<class 'pandas.core.frame.DataFrame'>\n",
            "RangeIndex: 2094 entries, 0 to 2093\n",
            "Data columns (total 6 columns):\n",
            " #   Column     Non-Null Count  Dtype  \n",
            "---  ------     --------------  -----  \n",
            " 0   user_id    2094 non-null   int64  \n",
            " 1   hero_id    2094 non-null   int64  \n",
            " 2   id         2094 non-null   object \n",
            " 3   num_games  2094 non-null   int64  \n",
            " 4   num_wins   2094 non-null   int64  \n",
            " 5   kda_ratio  2094 non-null   float64\n",
            "dtypes: float64(1), int64(4), object(1)\n",
            "memory usage: 98.3+ KB\n"
          ]
        }
      ]
    },
    {
      "cell_type": "code",
      "source": [
        "def agrupar(df1,df2,df3):\n",
        "  df = df1.merge(df2,how=\"left\", on='hero_id')\n",
        "  df = df.merge(df3,how='left', on='user_id')\n",
        "  df.rename(columns={'hero_id_y':'hero_id'},inplace=True)\n",
        "  df = df.merge(df2,how='left', on='hero_id')\n",
        "  df.drop(columns=['id_x','id_y','roles_x','roles_y'], inplace=True)\n",
        "  df['primary_attr_x']=df['primary_attr_x'].replace({'int':1,'agi':2,'str':3})\n",
        "  df['primary_attr_y']=df['primary_attr_y'].replace({'int':1,'agi':2,'str':3})\n",
        "  df['attack_type_x']= df['attack_type_x'].replace({'Ranged':1,'Melee':2})\n",
        "  df['attack_type_y']= df['attack_type_x'].replace({'Ranged':1,'Melee':2})\n",
        "  return df"
      ],
      "metadata": {
        "id": "U9zG_LhDQPfI"
      },
      "execution_count": null,
      "outputs": []
    },
    {
      "cell_type": "code",
      "source": [
        "def insight(df):\n",
        "  df['def_games']=df['num_games_y']-df['num_games_x']\n",
        "  df['def_wins']=df['num_wins_y']-df['num_wins_x']\n",
        "  df['def_bhealt']=df['base_health_y']-df['base_health_x']\n",
        "  df['def_bhealt_regen']=df['base_health_regen_y']-df['base_health_regen_x']\n",
        "  df['def_bmana']=df['base_mana_y']-df['base_mana_x']\n",
        "  df['def_bmana_regen']=df['base_mana_regen_y']-df['base_mana_regen_x']\n",
        "  df['def_barmor']=df['base_armor_y']-df['base_armor_x']\n",
        "  df['def_bmagicr']=df['base_magic_resistance_y']-df['base_magic_resistance_x']\n",
        "  df['def_batkm']=df['base_attack_min_y']-df['base_attack_min_x']\n",
        "  df['def_batkx']=df['base_attack_max_y']-df['base_attack_max_x']\n",
        "  df['def_bstr']=df['base_strength_y']-df['base_strength_x']\n",
        "  df['def_bagl']=df['base_agility_y']-df['base_agility_x']\n",
        "  df['def_bint']=df['base_intelligence_y']-df['base_intelligence_x']\n",
        "  df['def_strg']=df['strength_gain_y']-df['strength_gain_x']\n",
        "  df['def_aglg']=df['agility_gain_y']-df['agility_gain_x']\n",
        "  df['def_intg']=df['intelligence_gain_y']-df['intelligence_gain_x']\n",
        "  df['def_atkr']=df['attack_range_y']-df['attack_range_x']\n",
        "  df['def_prs']=df['projectile_speed_y']-df['projectile_speed_x']\n",
        "  df['def_atkrt']=df['attack_rate_y']-df['attack_rate_x']\n",
        "  df['def_movs']=df['move_speed_y']-df['move_speed_x']\n",
        "  df['def_turnr']=df['turn_rate_y']-df['turn_rate_x']\n",
        "  return df"
      ],
      "metadata": {
        "id": "tlQTpHeM-sVg"
      },
      "execution_count": null,
      "outputs": []
    },
    {
      "cell_type": "code",
      "source": [
        "df_rendimiento = agrupar(df_train9,df_hero,df_train1)\n",
        "df_rendimiento = insight(df_rendimiento)\n",
        "df_rendimiento.info()"
      ],
      "metadata": {
        "colab": {
          "base_uri": "https://localhost:8080/"
        },
        "id": "29Amns7fZZEZ",
        "outputId": "7d7f4449-5fcc-4223-963f-6eba9c7f646a"
      },
      "execution_count": null,
      "outputs": [
        {
          "output_type": "stream",
          "name": "stdout",
          "text": [
            "<class 'pandas.core.frame.DataFrame'>\n",
            "Int64Index: 18846 entries, 0 to 18845\n",
            "Data columns (total 72 columns):\n",
            " #   Column                   Non-Null Count  Dtype  \n",
            "---  ------                   --------------  -----  \n",
            " 0   user_id                  18846 non-null  int64  \n",
            " 1   hero_id_x                18846 non-null  int64  \n",
            " 2   num_games_x              18846 non-null  int64  \n",
            " 3   num_wins_x               18846 non-null  int64  \n",
            " 4   kda_ratio_x              18846 non-null  float64\n",
            " 5   primary_attr_x           18846 non-null  int64  \n",
            " 6   attack_type_x            18846 non-null  int64  \n",
            " 7   base_health_x            18846 non-null  int64  \n",
            " 8   base_health_regen_x      18846 non-null  float64\n",
            " 9   base_mana_x              18846 non-null  int64  \n",
            " 10  base_mana_regen_x        18846 non-null  float64\n",
            " 11  base_armor_x             18846 non-null  float64\n",
            " 12  base_magic_resistance_x  18846 non-null  int64  \n",
            " 13  base_attack_min_x        18846 non-null  int64  \n",
            " 14  base_attack_max_x        18846 non-null  int64  \n",
            " 15  base_strength_x          18846 non-null  int64  \n",
            " 16  base_agility_x           18846 non-null  int64  \n",
            " 17  base_intelligence_x      18846 non-null  int64  \n",
            " 18  strength_gain_x          18846 non-null  float64\n",
            " 19  agility_gain_x           18846 non-null  float64\n",
            " 20  intelligence_gain_x      18846 non-null  float64\n",
            " 21  attack_range_x           18846 non-null  int64  \n",
            " 22  projectile_speed_x       18846 non-null  int64  \n",
            " 23  attack_rate_x            18846 non-null  float64\n",
            " 24  move_speed_x             18846 non-null  int64  \n",
            " 25  turn_rate_x              18846 non-null  float64\n",
            " 26  hero_id                  18846 non-null  int64  \n",
            " 27  num_games_y              18846 non-null  int64  \n",
            " 28  num_wins_y               18846 non-null  int64  \n",
            " 29  kda_ratio_y              18846 non-null  float64\n",
            " 30  primary_attr_y           18846 non-null  int64  \n",
            " 31  attack_type_y            18846 non-null  int64  \n",
            " 32  base_health_y            18846 non-null  int64  \n",
            " 33  base_health_regen_y      18846 non-null  float64\n",
            " 34  base_mana_y              18846 non-null  int64  \n",
            " 35  base_mana_regen_y        18846 non-null  float64\n",
            " 36  base_armor_y             18846 non-null  float64\n",
            " 37  base_magic_resistance_y  18846 non-null  int64  \n",
            " 38  base_attack_min_y        18846 non-null  int64  \n",
            " 39  base_attack_max_y        18846 non-null  int64  \n",
            " 40  base_strength_y          18846 non-null  int64  \n",
            " 41  base_agility_y           18846 non-null  int64  \n",
            " 42  base_intelligence_y      18846 non-null  int64  \n",
            " 43  strength_gain_y          18846 non-null  float64\n",
            " 44  agility_gain_y           18846 non-null  float64\n",
            " 45  intelligence_gain_y      18846 non-null  float64\n",
            " 46  attack_range_y           18846 non-null  int64  \n",
            " 47  projectile_speed_y       18846 non-null  int64  \n",
            " 48  attack_rate_y            18846 non-null  float64\n",
            " 49  move_speed_y             18846 non-null  int64  \n",
            " 50  turn_rate_y              18846 non-null  float64\n",
            " 51  def_games                18846 non-null  int64  \n",
            " 52  def_wins                 18846 non-null  int64  \n",
            " 53  def_bhealt               18846 non-null  int64  \n",
            " 54  def_bhealt_regen         18846 non-null  float64\n",
            " 55  def_bmana                18846 non-null  int64  \n",
            " 56  def_bmana_regen          18846 non-null  float64\n",
            " 57  def_barmor               18846 non-null  float64\n",
            " 58  def_bmagicr              18846 non-null  int64  \n",
            " 59  def_batkm                18846 non-null  int64  \n",
            " 60  def_batkx                18846 non-null  int64  \n",
            " 61  def_bstr                 18846 non-null  int64  \n",
            " 62  def_bagl                 18846 non-null  int64  \n",
            " 63  def_bint                 18846 non-null  int64  \n",
            " 64  def_strg                 18846 non-null  float64\n",
            " 65  def_aglg                 18846 non-null  float64\n",
            " 66  def_intg                 18846 non-null  float64\n",
            " 67  def_atkr                 18846 non-null  int64  \n",
            " 68  def_prs                  18846 non-null  int64  \n",
            " 69  def_atkrt                18846 non-null  float64\n",
            " 70  def_movs                 18846 non-null  int64  \n",
            " 71  def_turnr                18846 non-null  float64\n",
            "dtypes: float64(26), int64(46)\n",
            "memory usage: 10.5 MB\n"
          ]
        }
      ]
    },
    {
      "cell_type": "code",
      "source": [
        "df_rendimiento.describe()"
      ],
      "metadata": {
        "colab": {
          "base_uri": "https://localhost:8080/",
          "height": 393
        },
        "id": "WUOiVufwlAlK",
        "outputId": "83c769ae-00e9-4957-93b7-3fc2c6c706a9"
      },
      "execution_count": null,
      "outputs": [
        {
          "output_type": "execute_result",
          "data": {
            "text/plain": [
              "            user_id     hero_id_x   num_games_x    num_wins_x   kda_ratio_x  \\\n",
              "count  18846.000000  18846.000000  18846.000000  18846.000000  18846.000000   \n",
              "mean    1488.840974     49.286957    188.120344    106.459036   3543.462003   \n",
              "std      856.144028     34.674544    224.166666    132.167024   1081.195070   \n",
              "min        1.000000      1.000000      1.000000      0.000000      0.000000   \n",
              "25%      752.000000     14.000000     76.000000     42.000000   2841.265936   \n",
              "50%     1480.500000     46.000000    138.000000     77.000000   3403.463637   \n",
              "75%     2233.000000     76.000000    228.000000    128.000000   4073.493596   \n",
              "max     2992.000000    120.000000   7280.000000   5010.000000  38000.000000   \n",
              "\n",
              "       primary_attr_x  attack_type_x  base_health_x  base_health_regen_x  \\\n",
              "count    18846.000000   18846.000000        18846.0         18846.000000   \n",
              "mean         1.881832       1.471453          200.0             1.699379   \n",
              "std          0.768159       0.499198            0.0             0.552141   \n",
              "min          1.000000       1.000000          200.0             1.000000   \n",
              "25%          1.000000       1.000000          200.0             1.500000   \n",
              "50%          2.000000       1.000000          200.0             1.500000   \n",
              "75%          2.000000       2.000000          200.0             1.500000   \n",
              "max          3.000000       2.000000          200.0             4.750000   \n",
              "\n",
              "       base_mana_x  ...      def_bagl      def_bint      def_strg  \\\n",
              "count      18846.0  ...  18846.000000  18846.000000  18846.000000   \n",
              "mean          75.0  ...      0.149793      0.123740     -0.041048   \n",
              "std            0.0  ...      5.928128      6.321423      0.736554   \n",
              "min           75.0  ...    -30.000000    -18.000000     -2.500000   \n",
              "25%           75.0  ...     -4.000000     -4.000000     -0.500000   \n",
              "50%           75.0  ...      0.000000      0.000000     -0.050000   \n",
              "75%           75.0  ...      4.000000      4.000000      0.400000   \n",
              "max           75.0  ...     26.000000     18.000000      2.500000   \n",
              "\n",
              "           def_aglg      def_intg      def_atkr       def_prs     def_atkrt  \\\n",
              "count  18846.000000  18846.000000  18846.000000  18846.000000  18846.000000   \n",
              "mean       0.020805     -0.010437      4.342831      7.155365     -0.002438   \n",
              "std        0.939916      0.949655    276.027542    619.787046      0.137876   \n",
              "min       -3.700000     -3.500000   -560.000000  -3000.000000     -0.600000   \n",
              "25%       -0.600000     -0.600000   -180.000000   -225.000000      0.000000   \n",
              "50%        0.000000      0.000000      0.000000      0.000000      0.000000   \n",
              "75%        0.700000      0.600000    200.000000    225.000000      0.000000   \n",
              "max        3.300000      3.000000    550.000000   3000.000000      0.600000   \n",
              "\n",
              "           def_movs     def_turnr  \n",
              "count  18846.000000  18846.000000  \n",
              "mean       0.447044      0.000899  \n",
              "std       17.548339      0.219103  \n",
              "min      -70.000000     -0.500000  \n",
              "25%      -10.000000     -0.100000  \n",
              "50%        0.000000      0.000000  \n",
              "75%       15.000000      0.100000  \n",
              "max       70.000000      0.500000  \n",
              "\n",
              "[8 rows x 72 columns]"
            ],
            "text/html": [
              "\n",
              "  <div id=\"df-68a36f12-7f5e-47f4-8363-65657916905e\">\n",
              "    <div class=\"colab-df-container\">\n",
              "      <div>\n",
              "<style scoped>\n",
              "    .dataframe tbody tr th:only-of-type {\n",
              "        vertical-align: middle;\n",
              "    }\n",
              "\n",
              "    .dataframe tbody tr th {\n",
              "        vertical-align: top;\n",
              "    }\n",
              "\n",
              "    .dataframe thead th {\n",
              "        text-align: right;\n",
              "    }\n",
              "</style>\n",
              "<table border=\"1\" class=\"dataframe\">\n",
              "  <thead>\n",
              "    <tr style=\"text-align: right;\">\n",
              "      <th></th>\n",
              "      <th>user_id</th>\n",
              "      <th>hero_id_x</th>\n",
              "      <th>num_games_x</th>\n",
              "      <th>num_wins_x</th>\n",
              "      <th>kda_ratio_x</th>\n",
              "      <th>primary_attr_x</th>\n",
              "      <th>attack_type_x</th>\n",
              "      <th>base_health_x</th>\n",
              "      <th>base_health_regen_x</th>\n",
              "      <th>base_mana_x</th>\n",
              "      <th>...</th>\n",
              "      <th>def_bagl</th>\n",
              "      <th>def_bint</th>\n",
              "      <th>def_strg</th>\n",
              "      <th>def_aglg</th>\n",
              "      <th>def_intg</th>\n",
              "      <th>def_atkr</th>\n",
              "      <th>def_prs</th>\n",
              "      <th>def_atkrt</th>\n",
              "      <th>def_movs</th>\n",
              "      <th>def_turnr</th>\n",
              "    </tr>\n",
              "  </thead>\n",
              "  <tbody>\n",
              "    <tr>\n",
              "      <th>count</th>\n",
              "      <td>18846.000000</td>\n",
              "      <td>18846.000000</td>\n",
              "      <td>18846.000000</td>\n",
              "      <td>18846.000000</td>\n",
              "      <td>18846.000000</td>\n",
              "      <td>18846.000000</td>\n",
              "      <td>18846.000000</td>\n",
              "      <td>18846.0</td>\n",
              "      <td>18846.000000</td>\n",
              "      <td>18846.0</td>\n",
              "      <td>...</td>\n",
              "      <td>18846.000000</td>\n",
              "      <td>18846.000000</td>\n",
              "      <td>18846.000000</td>\n",
              "      <td>18846.000000</td>\n",
              "      <td>18846.000000</td>\n",
              "      <td>18846.000000</td>\n",
              "      <td>18846.000000</td>\n",
              "      <td>18846.000000</td>\n",
              "      <td>18846.000000</td>\n",
              "      <td>18846.000000</td>\n",
              "    </tr>\n",
              "    <tr>\n",
              "      <th>mean</th>\n",
              "      <td>1488.840974</td>\n",
              "      <td>49.286957</td>\n",
              "      <td>188.120344</td>\n",
              "      <td>106.459036</td>\n",
              "      <td>3543.462003</td>\n",
              "      <td>1.881832</td>\n",
              "      <td>1.471453</td>\n",
              "      <td>200.0</td>\n",
              "      <td>1.699379</td>\n",
              "      <td>75.0</td>\n",
              "      <td>...</td>\n",
              "      <td>0.149793</td>\n",
              "      <td>0.123740</td>\n",
              "      <td>-0.041048</td>\n",
              "      <td>0.020805</td>\n",
              "      <td>-0.010437</td>\n",
              "      <td>4.342831</td>\n",
              "      <td>7.155365</td>\n",
              "      <td>-0.002438</td>\n",
              "      <td>0.447044</td>\n",
              "      <td>0.000899</td>\n",
              "    </tr>\n",
              "    <tr>\n",
              "      <th>std</th>\n",
              "      <td>856.144028</td>\n",
              "      <td>34.674544</td>\n",
              "      <td>224.166666</td>\n",
              "      <td>132.167024</td>\n",
              "      <td>1081.195070</td>\n",
              "      <td>0.768159</td>\n",
              "      <td>0.499198</td>\n",
              "      <td>0.0</td>\n",
              "      <td>0.552141</td>\n",
              "      <td>0.0</td>\n",
              "      <td>...</td>\n",
              "      <td>5.928128</td>\n",
              "      <td>6.321423</td>\n",
              "      <td>0.736554</td>\n",
              "      <td>0.939916</td>\n",
              "      <td>0.949655</td>\n",
              "      <td>276.027542</td>\n",
              "      <td>619.787046</td>\n",
              "      <td>0.137876</td>\n",
              "      <td>17.548339</td>\n",
              "      <td>0.219103</td>\n",
              "    </tr>\n",
              "    <tr>\n",
              "      <th>min</th>\n",
              "      <td>1.000000</td>\n",
              "      <td>1.000000</td>\n",
              "      <td>1.000000</td>\n",
              "      <td>0.000000</td>\n",
              "      <td>0.000000</td>\n",
              "      <td>1.000000</td>\n",
              "      <td>1.000000</td>\n",
              "      <td>200.0</td>\n",
              "      <td>1.000000</td>\n",
              "      <td>75.0</td>\n",
              "      <td>...</td>\n",
              "      <td>-30.000000</td>\n",
              "      <td>-18.000000</td>\n",
              "      <td>-2.500000</td>\n",
              "      <td>-3.700000</td>\n",
              "      <td>-3.500000</td>\n",
              "      <td>-560.000000</td>\n",
              "      <td>-3000.000000</td>\n",
              "      <td>-0.600000</td>\n",
              "      <td>-70.000000</td>\n",
              "      <td>-0.500000</td>\n",
              "    </tr>\n",
              "    <tr>\n",
              "      <th>25%</th>\n",
              "      <td>752.000000</td>\n",
              "      <td>14.000000</td>\n",
              "      <td>76.000000</td>\n",
              "      <td>42.000000</td>\n",
              "      <td>2841.265936</td>\n",
              "      <td>1.000000</td>\n",
              "      <td>1.000000</td>\n",
              "      <td>200.0</td>\n",
              "      <td>1.500000</td>\n",
              "      <td>75.0</td>\n",
              "      <td>...</td>\n",
              "      <td>-4.000000</td>\n",
              "      <td>-4.000000</td>\n",
              "      <td>-0.500000</td>\n",
              "      <td>-0.600000</td>\n",
              "      <td>-0.600000</td>\n",
              "      <td>-180.000000</td>\n",
              "      <td>-225.000000</td>\n",
              "      <td>0.000000</td>\n",
              "      <td>-10.000000</td>\n",
              "      <td>-0.100000</td>\n",
              "    </tr>\n",
              "    <tr>\n",
              "      <th>50%</th>\n",
              "      <td>1480.500000</td>\n",
              "      <td>46.000000</td>\n",
              "      <td>138.000000</td>\n",
              "      <td>77.000000</td>\n",
              "      <td>3403.463637</td>\n",
              "      <td>2.000000</td>\n",
              "      <td>1.000000</td>\n",
              "      <td>200.0</td>\n",
              "      <td>1.500000</td>\n",
              "      <td>75.0</td>\n",
              "      <td>...</td>\n",
              "      <td>0.000000</td>\n",
              "      <td>0.000000</td>\n",
              "      <td>-0.050000</td>\n",
              "      <td>0.000000</td>\n",
              "      <td>0.000000</td>\n",
              "      <td>0.000000</td>\n",
              "      <td>0.000000</td>\n",
              "      <td>0.000000</td>\n",
              "      <td>0.000000</td>\n",
              "      <td>0.000000</td>\n",
              "    </tr>\n",
              "    <tr>\n",
              "      <th>75%</th>\n",
              "      <td>2233.000000</td>\n",
              "      <td>76.000000</td>\n",
              "      <td>228.000000</td>\n",
              "      <td>128.000000</td>\n",
              "      <td>4073.493596</td>\n",
              "      <td>2.000000</td>\n",
              "      <td>2.000000</td>\n",
              "      <td>200.0</td>\n",
              "      <td>1.500000</td>\n",
              "      <td>75.0</td>\n",
              "      <td>...</td>\n",
              "      <td>4.000000</td>\n",
              "      <td>4.000000</td>\n",
              "      <td>0.400000</td>\n",
              "      <td>0.700000</td>\n",
              "      <td>0.600000</td>\n",
              "      <td>200.000000</td>\n",
              "      <td>225.000000</td>\n",
              "      <td>0.000000</td>\n",
              "      <td>15.000000</td>\n",
              "      <td>0.100000</td>\n",
              "    </tr>\n",
              "    <tr>\n",
              "      <th>max</th>\n",
              "      <td>2992.000000</td>\n",
              "      <td>120.000000</td>\n",
              "      <td>7280.000000</td>\n",
              "      <td>5010.000000</td>\n",
              "      <td>38000.000000</td>\n",
              "      <td>3.000000</td>\n",
              "      <td>2.000000</td>\n",
              "      <td>200.0</td>\n",
              "      <td>4.750000</td>\n",
              "      <td>75.0</td>\n",
              "      <td>...</td>\n",
              "      <td>26.000000</td>\n",
              "      <td>18.000000</td>\n",
              "      <td>2.500000</td>\n",
              "      <td>3.300000</td>\n",
              "      <td>3.000000</td>\n",
              "      <td>550.000000</td>\n",
              "      <td>3000.000000</td>\n",
              "      <td>0.600000</td>\n",
              "      <td>70.000000</td>\n",
              "      <td>0.500000</td>\n",
              "    </tr>\n",
              "  </tbody>\n",
              "</table>\n",
              "<p>8 rows × 72 columns</p>\n",
              "</div>\n",
              "      <button class=\"colab-df-convert\" onclick=\"convertToInteractive('df-68a36f12-7f5e-47f4-8363-65657916905e')\"\n",
              "              title=\"Convert this dataframe to an interactive table.\"\n",
              "              style=\"display:none;\">\n",
              "        \n",
              "  <svg xmlns=\"http://www.w3.org/2000/svg\" height=\"24px\"viewBox=\"0 0 24 24\"\n",
              "       width=\"24px\">\n",
              "    <path d=\"M0 0h24v24H0V0z\" fill=\"none\"/>\n",
              "    <path d=\"M18.56 5.44l.94 2.06.94-2.06 2.06-.94-2.06-.94-.94-2.06-.94 2.06-2.06.94zm-11 1L8.5 8.5l.94-2.06 2.06-.94-2.06-.94L8.5 2.5l-.94 2.06-2.06.94zm10 10l.94 2.06.94-2.06 2.06-.94-2.06-.94-.94-2.06-.94 2.06-2.06.94z\"/><path d=\"M17.41 7.96l-1.37-1.37c-.4-.4-.92-.59-1.43-.59-.52 0-1.04.2-1.43.59L10.3 9.45l-7.72 7.72c-.78.78-.78 2.05 0 2.83L4 21.41c.39.39.9.59 1.41.59.51 0 1.02-.2 1.41-.59l7.78-7.78 2.81-2.81c.8-.78.8-2.07 0-2.86zM5.41 20L4 18.59l7.72-7.72 1.47 1.35L5.41 20z\"/>\n",
              "  </svg>\n",
              "      </button>\n",
              "      \n",
              "  <style>\n",
              "    .colab-df-container {\n",
              "      display:flex;\n",
              "      flex-wrap:wrap;\n",
              "      gap: 12px;\n",
              "    }\n",
              "\n",
              "    .colab-df-convert {\n",
              "      background-color: #E8F0FE;\n",
              "      border: none;\n",
              "      border-radius: 50%;\n",
              "      cursor: pointer;\n",
              "      display: none;\n",
              "      fill: #1967D2;\n",
              "      height: 32px;\n",
              "      padding: 0 0 0 0;\n",
              "      width: 32px;\n",
              "    }\n",
              "\n",
              "    .colab-df-convert:hover {\n",
              "      background-color: #E2EBFA;\n",
              "      box-shadow: 0px 1px 2px rgba(60, 64, 67, 0.3), 0px 1px 3px 1px rgba(60, 64, 67, 0.15);\n",
              "      fill: #174EA6;\n",
              "    }\n",
              "\n",
              "    [theme=dark] .colab-df-convert {\n",
              "      background-color: #3B4455;\n",
              "      fill: #D2E3FC;\n",
              "    }\n",
              "\n",
              "    [theme=dark] .colab-df-convert:hover {\n",
              "      background-color: #434B5C;\n",
              "      box-shadow: 0px 1px 3px 1px rgba(0, 0, 0, 0.15);\n",
              "      filter: drop-shadow(0px 1px 2px rgba(0, 0, 0, 0.3));\n",
              "      fill: #FFFFFF;\n",
              "    }\n",
              "  </style>\n",
              "\n",
              "      <script>\n",
              "        const buttonEl =\n",
              "          document.querySelector('#df-68a36f12-7f5e-47f4-8363-65657916905e button.colab-df-convert');\n",
              "        buttonEl.style.display =\n",
              "          google.colab.kernel.accessAllowed ? 'block' : 'none';\n",
              "\n",
              "        async function convertToInteractive(key) {\n",
              "          const element = document.querySelector('#df-68a36f12-7f5e-47f4-8363-65657916905e');\n",
              "          const dataTable =\n",
              "            await google.colab.kernel.invokeFunction('convertToInteractive',\n",
              "                                                     [key], {});\n",
              "          if (!dataTable) return;\n",
              "\n",
              "          const docLinkHtml = 'Like what you see? Visit the ' +\n",
              "            '<a target=\"_blank\" href=https://colab.research.google.com/notebooks/data_table.ipynb>data table notebook</a>'\n",
              "            + ' to learn more about interactive tables.';\n",
              "          element.innerHTML = '';\n",
              "          dataTable['output_type'] = 'display_data';\n",
              "          await google.colab.output.renderOutput(dataTable, element);\n",
              "          const docLink = document.createElement('div');\n",
              "          docLink.innerHTML = docLinkHtml;\n",
              "          element.appendChild(docLink);\n",
              "        }\n",
              "      </script>\n",
              "    </div>\n",
              "  </div>\n",
              "  "
            ]
          },
          "metadata": {},
          "execution_count": 13
        }
      ]
    },
    {
      "cell_type": "code",
      "source": [
        "plt.figure(figsize=(20,5))\n",
        "plt.bar(df_rendimiento.groupby(['hero_id_x'])['num_wins_x'].mean().index,df_rendimiento.groupby(['hero_id_x'])['num_wins_x'].mean().values)"
      ],
      "metadata": {
        "colab": {
          "base_uri": "https://localhost:8080/",
          "height": 337
        },
        "id": "YRQVnDhepowD",
        "outputId": "1037523f-693b-41b8-dbd9-f66502ffb8dc"
      },
      "execution_count": null,
      "outputs": [
        {
          "output_type": "execute_result",
          "data": {
            "text/plain": [
              "<BarContainer object of 115 artists>"
            ]
          },
          "metadata": {},
          "execution_count": 14
        },
        {
          "output_type": "display_data",
          "data": {
            "text/plain": [
              "<Figure size 1440x360 with 1 Axes>"
            ],
            "image/png": "[encoded data removed]"
          },
          "metadata": {
            "needs_background": "light"
          }
        }
      ]
    },
    {
      "cell_type": "code",
      "source": [
        "plt.figure(figsize=(20,5))\n",
        "plt.bar(df_rendimiento.groupby(['hero_id_x'])['num_games_x'].mean().index,df_rendimiento.groupby(['hero_id_x'])['num_games_x'].mean().values)"
      ],
      "metadata": {
        "colab": {
          "base_uri": "https://localhost:8080/",
          "height": 337
        },
        "id": "ReZsqHmNvP4c",
        "outputId": "acf0e90e-9b73-4943-b650-a7bf4fe08875"
      },
      "execution_count": null,
      "outputs": [
        {
          "output_type": "execute_result",
          "data": {
            "text/plain": [
              "<BarContainer object of 115 artists>"
            ]
          },
          "metadata": {},
          "execution_count": 15
        },
        {
          "output_type": "display_data",
          "data": {
            "text/plain": [
              "<Figure size 1440x360 with 1 Axes>"
            ],
            "image/png": "[encoded data removed]"
          },
          "metadata": {
            "needs_background": "light"
          }
        }
      ]
    },
    {
      "cell_type": "code",
      "source": [
        "plt.figure(figsize=(20,5))\n",
        "plt.bar(df_rendimiento.groupby(['hero_id_x'])['kda_ratio_x'].mean().index,df_rendimiento.groupby(['hero_id_x'])['kda_ratio_x'].mean().values)"
      ],
      "metadata": {
        "colab": {
          "base_uri": "https://localhost:8080/",
          "height": 337
        },
        "id": "pEAHhKib8-iO",
        "outputId": "fff949f8-e8d6-4c3e-bbd5-abdc37b22cdf"
      },
      "execution_count": null,
      "outputs": [
        {
          "output_type": "execute_result",
          "data": {
            "text/plain": [
              "<BarContainer object of 115 artists>"
            ]
          },
          "metadata": {},
          "execution_count": 16
        },
        {
          "output_type": "display_data",
          "data": {
            "text/plain": [
              "<Figure size 1440x360 with 1 Axes>"
            ],
            "image/png": "[encoded data removed]"
          },
          "metadata": {
            "needs_background": "light"
          }
        }
      ]
    },
    {
      "cell_type": "code",
      "source": [
        "plt.figure(figsize=(20,5))\n",
        "plt.bar(df_rendimiento.groupby(['primary_attr_x'])['num_wins_x'].sum().index,df_rendimiento.groupby(['primary_attr_x'])['num_wins_x'].sum().values)"
      ],
      "metadata": {
        "colab": {
          "base_uri": "https://localhost:8080/",
          "height": 337
        },
        "id": "GL_h79hD41Bv",
        "outputId": "8d3b4510-67f6-4ffe-dc11-aca2742b3922"
      },
      "execution_count": null,
      "outputs": [
        {
          "output_type": "execute_result",
          "data": {
            "text/plain": [
              "<BarContainer object of 3 artists>"
            ]
          },
          "metadata": {},
          "execution_count": 17
        },
        {
          "output_type": "display_data",
          "data": {
            "text/plain": [
              "<Figure size 1440x360 with 1 Axes>"
            ],
            "image/png": "[encoded data removed]"
          },
          "metadata": {
            "needs_background": "light"
          }
        }
      ]
    },
    {
      "cell_type": "code",
      "source": [
        "plt.figure(figsize=(20,5))\n",
        "plt.bar(df_rendimiento.groupby(['primary_attr_x'])['num_games_x'].mean().index,df_rendimiento.groupby(['primary_attr_x'])['num_games_x'].mean().values)"
      ],
      "metadata": {
        "colab": {
          "base_uri": "https://localhost:8080/",
          "height": 337
        },
        "id": "DGwF6uqY78bV",
        "outputId": "383221c8-7cc9-48db-dc25-1d4d7ab82741"
      },
      "execution_count": null,
      "outputs": [
        {
          "output_type": "execute_result",
          "data": {
            "text/plain": [
              "<BarContainer object of 3 artists>"
            ]
          },
          "metadata": {},
          "execution_count": 18
        },
        {
          "output_type": "display_data",
          "data": {
            "text/plain": [
              "<Figure size 1440x360 with 1 Axes>"
            ],
            "image/png": "[encoded data removed]"
          },
          "metadata": {
            "needs_background": "light"
          }
        }
      ]
    },
    {
      "cell_type": "code",
      "source": [
        "plt.figure(figsize=(20,5))\n",
        "plt.bar(df_rendimiento.groupby(['attack_type_x'])['num_wins_x'].mean().index,df_rendimiento.groupby(['attack_type_x'])['num_wins_x'].mean().values)"
      ],
      "metadata": {
        "colab": {
          "base_uri": "https://localhost:8080/",
          "height": 337
        },
        "id": "FgCqrXwO8QFv",
        "outputId": "a63d3a7f-1cfe-44b8-b25b-ab481dde04b6"
      },
      "execution_count": null,
      "outputs": [
        {
          "output_type": "execute_result",
          "data": {
            "text/plain": [
              "<BarContainer object of 2 artists>"
            ]
          },
          "metadata": {},
          "execution_count": 19
        },
        {
          "output_type": "display_data",
          "data": {
            "text/plain": [
              "<Figure size 1440x360 with 1 Axes>"
            ],
            "image/png": "[encoded data removed]"
          },
          "metadata": {
            "needs_background": "light"
          }
        }
      ]
    },
    {
      "cell_type": "code",
      "source": [
        "plt.figure(figsize=(20,5))\n",
        "plt.bar(df_rendimiento.groupby(['attack_type_x'])['num_games_x'].mean().index,df_rendimiento.groupby(['attack_type_x'])['num_games_x'].mean().values)"
      ],
      "metadata": {
        "colab": {
          "base_uri": "https://localhost:8080/",
          "height": 337
        },
        "id": "r0kHfJld81L9",
        "outputId": "b4b4a4ef-3398-4888-de75-54e8879bfbcb"
      },
      "execution_count": null,
      "outputs": [
        {
          "output_type": "execute_result",
          "data": {
            "text/plain": [
              "<BarContainer object of 2 artists>"
            ]
          },
          "metadata": {},
          "execution_count": 20
        },
        {
          "output_type": "display_data",
          "data": {
            "text/plain": [
              "<Figure size 1440x360 with 1 Axes>"
            ],
            "image/png": "[encoded data removed]"
          },
          "metadata": {
            "needs_background": "light"
          }
        }
      ]
    },
    {
      "cell_type": "code",
      "source": [
        "X = df_rendimiento.drop(columns={'num_wins_y','kda_ratio_y'})\n",
        "y_wins = df_rendimiento['num_wins_y']\n",
        "y_kda = df_rendimiento['kda_ratio_y']"
      ],
      "metadata": {
        "id": "HjkcHg5MZ1uu"
      },
      "execution_count": null,
      "outputs": []
    },
    {
      "cell_type": "code",
      "source": [
        "X_train_kda, X_test_kda, y_train_kda, y_test_kda, y_train_wins, y_test_wins = train_test_split(X, y_kda, y_wins,random_state=3,train_size=0.8)"
      ],
      "metadata": {
        "id": "r69cGwAUcKI_"
      },
      "execution_count": null,
      "outputs": []
    },
    {
      "cell_type": "code",
      "source": [
        "pipe_Rf = make_pipeline(StandardScaler(), RandomForestRegressor(n_jobs=-1, random_state=10, n_estimators=200))\n",
        "pipe_Rf.fit(X_train_kda,y_train_kda)\n",
        "print(pipe_Rf.score(X_train_kda,y_train_kda))\n",
        "print(pipe_Rf.score(X_test_kda,y_test_kda))"
      ],
      "metadata": {
        "colab": {
          "base_uri": "https://localhost:8080/"
        },
        "id": "_D_UcYrvhbWV",
        "outputId": "3545ab87-283e-4af5-c5fc-9992d18bdeb5"
      },
      "execution_count": null,
      "outputs": [
        {
          "output_type": "stream",
          "name": "stdout",
          "text": [
            "0.9624796087667005\n",
            "0.7107196721899165\n"
          ]
        }
      ]
    },
    {
      "cell_type": "code",
      "source": [
        "sc = StandardScaler()\n",
        "X_train_kda=sc.fit_transform(X_train_kda)\n",
        "X_test_kda=sc.fit_transform(X_test_kda)"
      ],
      "metadata": {
        "id": "i7PbcT6Vkkp-"
      },
      "execution_count": null,
      "outputs": []
    },
    {
      "cell_type": "code",
      "source": [
        "arboles = list(range(200,1500,100))\n",
        "scores = []\n",
        "for arbol in arboles:\n",
        "  rf = RandomForestRegressor(n_jobs=-1, n_estimators=arbol, random_state=2)\n",
        "  rf.fit(X_train_kda,y_train_kda)\n",
        "  scores.append(rf.score(X_test_kda,y_test_kda))"
      ],
      "metadata": {
        "id": "zm2PgDbhlJiV"
      },
      "execution_count": null,
      "outputs": []
    },
    {
      "cell_type": "code",
      "source": [
        "fig, axes = plt.subplots(nrows =1, figsize = (5,5));\n",
        "axes.plot(arboles, scores);\n",
        "axes.set_xlabel('n_arboles', fontsize =20);\n",
        "axes.set_ylabel('Accuracy', fontsize = 20);\n",
        "axes.grid()"
      ],
      "metadata": {
        "colab": {
          "base_uri": "https://localhost:8080/",
          "height": 347
        },
        "id": "86ED-BEKltrW",
        "outputId": "55f12c87-7e0a-4cb8-90d9-e8e9a310bcb8"
      },
      "execution_count": null,
      "outputs": [
        {
          "output_type": "display_data",
          "data": {
            "text/plain": [
              "<Figure size 360x360 with 1 Axes>"
            ],
            "image/png": "[encoded data removed]"
          },
          "metadata": {
            "needs_background": "light"
          }
        }
      ]
    },
    {
      "cell_type": "code",
      "source": [
        ""
      ],
      "metadata": {
        "id": "0q2m98_BwOcn"
      },
      "execution_count": null,
      "outputs": []
    }
  ]
}